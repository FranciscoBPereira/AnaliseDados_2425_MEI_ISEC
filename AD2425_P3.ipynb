{
  "nbformat": 4,
  "nbformat_minor": 0,
  "metadata": {
    "colab": {
      "provenance": [],
      "gpuType": "T4"
    },
    "kernelspec": {
      "name": "python3",
      "display_name": "Python 3"
    },
    "language_info": {
      "name": "python"
    },
    "accelerator": "GPU"
  },
  "cells": [
    {
      "cell_type": "markdown",
      "metadata": {
        "id": "view-in-github",
        "colab_type": "text"
      },
      "source": [
        "<a href=\"https://colab.research.google.com/github/FranciscoBPereira/AnaliseDados_2425_MEI_ISEC/blob/main/AD2425_P3.ipynb\" target=\"_parent\"><img src=\"https://colab.research.google.com/assets/colab-badge.svg\" alt=\"Open In Colab\"/></a>"
      ]
    },
    {
      "cell_type": "code",
      "execution_count": null,
      "metadata": {
        "id": "-JuSbzdc8UYX"
      },
      "outputs": [],
      "source": [
        "# Setup, Version check and Common imports\n",
        "\n",
        "# Python ≥3.8 is required\n",
        "import sys\n",
        "assert sys.version_info >= (3, 5)\n",
        "\n",
        "\n",
        "# TensorFlow ≥2.0 is required\n",
        "import tensorflow as tf\n",
        "assert tf.__version__ >= \"2.0\"\n",
        "\n",
        "# Common imports\n",
        "import numpy as np\n",
        "import os\n",
        "\n",
        "from tensorflow import keras\n",
        "from tensorflow.keras import layers\n",
        "\n",
        "# to make this notebook's output stable across runs\n",
        "np.random.seed(42)\n",
        "\n",
        "import matplotlib.pyplot as plt\n",
        "\n",
        "plt.rc('font', size=14)\n",
        "plt.rc('axes', labelsize=14, titlesize=14)\n",
        "plt.rc('legend', fontsize=14)\n",
        "plt.rc('xtick', labelsize=10)\n",
        "plt.rc('ytick', labelsize=10)\n",
        "\n",
        "print('Python version: ', sys.version_info)\n",
        "print('TF version: ', tf.__version__)\n",
        "print('Keras version: ', keras.__version__)\n",
        "print('GPU is', 'available' if tf.config.list_physical_devices('GPU') else 'NOT AVAILABLE')"
      ]
    },
    {
      "cell_type": "markdown",
      "source": [
        "**1. Obtaining and preprocessing the Dataset**"
      ],
      "metadata": {
        "id": "BcfdZEEZiIFP"
      }
    },
    {
      "cell_type": "code",
      "source": [
        "# Load CIFAR100 dataset from keras datasets:\n",
        "# https://keras.io/api/datasets/cifar100/\n",
        "# https://www.cs.toronto.edu/~kriz/cifar.html\n",
        "\n",
        "# The load_data() method creates train and test sets. The parameter label_mode specifies the category labels: 'fine' or 'coarse'\n",
        "# In this class we will adopt the coarse classification, corresponding to 20 categories\n",
        "\n",
        "from keras.datasets import cifar100\n",
        "\n",
        "(train_images_full, train_labels_full), (test_images, test_labels) = cifar100.load_data(label_mode = 'fine')\n",
        "\n",
        "train_labels_full = train_labels_full.squeeze()\n",
        "test_labels = test_labels.squeeze()\n",
        "\n",
        "# Normalize data\n",
        "train_images_full = train_images_full / 255.0\n",
        "test_images = test_images / 255.0\n",
        "\n",
        "# We further divide the original train datasets into train and valid datasets\n",
        "train_images = train_images_full[5000:]\n",
        "valid_images = train_images_full[:5000]\n",
        "\n",
        "train_labels = train_labels_full[5000:]\n",
        "valid_labels = train_labels_full[:5000]\n"
      ],
      "metadata": {
        "id": "QC1ftALm_dHn"
      },
      "execution_count": null,
      "outputs": []
    },
    {
      "cell_type": "code",
      "source": [
        "\n",
        "# Complete this section\n",
        "# Confirm the dimensions of all tensors previously created\n",
        "\n",
        "# PLACE CODE HERE\n",
        "\n"
      ],
      "metadata": {
        "id": "5fU5y4rh_p8I"
      },
      "execution_count": null,
      "outputs": []
    },
    {
      "cell_type": "code",
      "source": [
        "# Confirm that the fine-grained dataset contains 100 classes\n",
        "\n",
        "print(np.unique(train_labels))\n",
        "\n",
        "print('Nr. of classes:', len(np. unique(train_labels)))\n"
      ],
      "metadata": {
        "id": "fs2wASfRUF-Z"
      },
      "execution_count": null,
      "outputs": []
    },
    {
      "cell_type": "code",
      "source": [
        "# Visualize a few examples\n",
        "# Check here for the identification of the classes: https://www.cs.toronto.edu/~kriz/cifar.html\n",
        "\n",
        "n_rows = 6\n",
        "n_cols = 10\n",
        "\n",
        "# Change the value of start to visualize different examples\n",
        "start = 0\n",
        "\n",
        "plt.figure(figsize=(n_cols * 1.2, n_rows * 1.2))\n",
        "for row in range(n_rows):\n",
        "    for col in range(n_cols):\n",
        "        index = n_cols * row + col\n",
        "        plt.subplot(n_rows, n_cols, index + 1)\n",
        "        plt.imshow(train_images[index + start])\n",
        "        plt.axis('off')\n",
        "        plt.title(train_labels[index + start], fontsize=12)\n",
        "plt.subplots_adjust(wspace=0.2, hspace=0.5)\n",
        "plt.show()\n"
      ],
      "metadata": {
        "id": "bo49AV1nAU-c"
      },
      "execution_count": null,
      "outputs": []
    },
    {
      "cell_type": "markdown",
      "source": [
        "**2. Creating and Training a Baseline Feed-Forward Neural Network**"
      ],
      "metadata": {
        "id": "6j18BmDgirLh"
      }
    },
    {
      "cell_type": "code",
      "source": [
        "keras.backend.clear_session()\n",
        "tf.random.set_seed(42)\n",
        "np.random.seed(42)\n"
      ],
      "metadata": {
        "id": "EbIvQ4PjBcNm"
      },
      "execution_count": null,
      "outputs": []
    },
    {
      "cell_type": "code",
      "source": [
        "# Build a baseline feed-forward NN with Keras Sequential API: https://keras.io/api/models/\n",
        "\n",
        "# Suggestion: Start with the best model from previous class\n",
        "# It can only contain Flatten and Dense layers\n",
        "# It can only use Sigmoid, Tanh, and SoftMax activation functions\n",
        "# It has a budget of 1.5 million weights\n",
        "\n",
        "baselineM = keras.Sequential([\n",
        "    layers.Input(shape=[32,32,3]),\n",
        "    layers.Flatten(),\n",
        "\n",
        "    ## Complete the model\n",
        "\n",
        "])\n"
      ],
      "metadata": {
        "id": "DTHggPBEBdfo"
      },
      "execution_count": null,
      "outputs": []
    },
    {
      "cell_type": "code",
      "source": [
        "# Present a summary of the network architecture\n",
        "\n",
        "baselineM.summary()\n"
      ],
      "metadata": {
        "id": "T9yUOxPDBy7P"
      },
      "execution_count": null,
      "outputs": []
    },
    {
      "cell_type": "code",
      "source": [
        "# Model compilation: https://keras.io/api/models/model_training_apis/\n",
        "\n",
        "# Define the three required components\n",
        "# 1. The loss function\n",
        "# 2. The SGD optimizer must be used in training\n",
        "# 3. A suitable evaluation metric\n",
        "\n",
        "l = # Define loss function #\n",
        "opt = # Define optimizer #\n",
        "m = # Define evaluation metric #\n",
        "\n",
        "baselineM.compile(loss=l,optimizer=opt, metrics=[m])\n",
        "\n",
        "\n"
      ],
      "metadata": {
        "id": "sROoIWQdCqZj"
      },
      "execution_count": null,
      "outputs": []
    },
    {
      "cell_type": "code",
      "source": [
        "# Model training\n",
        "\n",
        "\n",
        "history = baselineM.fit(train_images, train_labels, batch_size=32, epochs=20,\n",
        "                    validation_data=(valid_images, valid_labels))"
      ],
      "metadata": {
        "id": "TKzCp-bECuuJ"
      },
      "execution_count": null,
      "outputs": []
    },
    {
      "cell_type": "code",
      "source": [
        "\n",
        "# Plot the evolution of the accuracy metrics\n",
        "\n",
        "import pandas as pd\n",
        "\n",
        "x = pd.DataFrame(history.history, columns = ['accuracy', 'val_accuracy'])\n",
        "x.plot(figsize=(8, 5))\n",
        "plt.grid(True)\n",
        "plt.show()\n",
        "\n"
      ],
      "metadata": {
        "id": "hzME4ag3EQke"
      },
      "execution_count": null,
      "outputs": []
    },
    {
      "cell_type": "code",
      "source": [
        "# Model evaluation\n",
        "\n",
        "test_loss, test_acc = baselineM.evaluate(test_images, test_labels)\n",
        "print(f\"Test Accuracy: {test_acc}\")\n"
      ],
      "metadata": {
        "id": "fVr86_57ETsJ"
      },
      "execution_count": null,
      "outputs": []
    },
    {
      "cell_type": "markdown",
      "source": [
        "**Question:**\n",
        "\n",
        "1. How do you analyze these results?\n",
        "\n",
        "\n",
        "\n",
        "\n",
        "\n",
        "\n",
        "\n"
      ],
      "metadata": {
        "id": "rKrm8lBiEk_t"
      }
    },
    {
      "cell_type": "markdown",
      "source": [
        "**3. Creating an Enhanced Feed-forward Neural Network**\n"
      ],
      "metadata": {
        "id": "sNztVgIKTqzh"
      }
    },
    {
      "cell_type": "markdown",
      "source": [
        "**Option 1: Change the activation function of the hidden layers**\n",
        "\n",
        "Select one activation function from the ReLU family and analyze its impact on performance\n",
        "\n",
        "https://keras.io/api/layers/activations/"
      ],
      "metadata": {
        "id": "Y1WDRAZqTzM_"
      }
    },
    {
      "cell_type": "code",
      "source": [
        "keras.backend.clear_session()\n",
        "tf.random.set_seed(42)\n",
        "np.random.seed(42)\n",
        "\n",
        "M_1 = keras.Sequential([\n",
        "    layers.Input(shape=[32,32,3]),\n",
        "    layers.Flatten(),\n",
        "\n",
        "    ## Complete the model\n",
        "\n",
        "])\n",
        "\n",
        "# Compile\n",
        "\n",
        "# Train\n",
        "\n",
        "# Evaluate\n",
        "\n",
        "# Analyze results"
      ],
      "metadata": {
        "id": "loIs05acUXYz"
      },
      "execution_count": null,
      "outputs": []
    },
    {
      "cell_type": "markdown",
      "source": [
        "**Option 2: Change the optimizer**\n",
        "\n",
        "Select another optimizer and analyze its impact on performance\n",
        "\n",
        "https://keras.io/api/optimizers/"
      ],
      "metadata": {
        "id": "9kBj_01mU2Ra"
      }
    },
    {
      "cell_type": "code",
      "source": [
        "keras.backend.clear_session()\n",
        "tf.random.set_seed(42)\n",
        "np.random.seed(42)\n",
        "\n",
        "M_2 = keras.Sequential([\n",
        "    layers.Input(shape=[32,32,3]),\n",
        "    layers.Flatten(),\n",
        "\n",
        "    ## Complete the model\n",
        "\n",
        "])\n",
        "\n",
        "# Compile\n",
        "\n",
        "# Train\n",
        "\n",
        "# Evaluate\n",
        "\n",
        "# Analyze results"
      ],
      "metadata": {
        "id": "1KsB9OwpVan7"
      },
      "execution_count": null,
      "outputs": []
    },
    {
      "cell_type": "markdown",
      "source": [
        "**Option 3: Add Regularization**\n",
        "\n",
        "Add a component to fight overfitting and analyze its impact in performance\n",
        "\n",
        "https://keras.io/api/layers/normalization_layers/batch_normalization/\n",
        "\n",
        "https://keras.io/api/layers/regularization_layers/dropout/\n",
        "\n",
        "https://keras.io/api/callbacks/early_stopping/"
      ],
      "metadata": {
        "id": "6J7zdBiBVgL-"
      }
    },
    {
      "cell_type": "code",
      "source": [
        "keras.backend.clear_session()\n",
        "tf.random.set_seed(42)\n",
        "np.random.seed(42)\n",
        "\n",
        "M_3 = keras.Sequential([\n",
        "    layers.Input(shape=[32,32,3]),\n",
        "    layers.Flatten(),\n",
        "\n",
        "    ## Complete the model\n",
        "\n",
        "])\n",
        "\n",
        "# Compile\n",
        "\n",
        "# Train\n",
        "\n",
        "# Evaluate\n",
        "\n",
        "# Analyze results"
      ],
      "metadata": {
        "id": "_GBXK3TmVemV"
      },
      "execution_count": null,
      "outputs": []
    }
  ]
}
