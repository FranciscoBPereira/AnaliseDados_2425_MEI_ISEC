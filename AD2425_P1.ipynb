{
  "nbformat": 4,
  "nbformat_minor": 0,
  "metadata": {
    "colab": {
      "provenance": [],
      "gpuType": "T4"
    },
    "kernelspec": {
      "name": "python3",
      "display_name": "Python 3"
    },
    "language_info": {
      "name": "python"
    },
    "accelerator": "GPU"
  },
  "cells": [
{
      "cell_type": "markdown",
      "metadata": {
        "id": "view-in-github",
        "colab_type": "text"
      },
      "source": [
        "<a href=\"https://colab.research.google.com/github/FranciscoBPereira/AnaliseDados_2425_MEI_ISEC/blob/main/AD2425_P1.ipynb\" target=\"_parent\"><img src=\"https://colab.research.google.com/assets/colab-badge.svg\" alt=\"Open In Colab\"/></a>"
      ]
    },
    {
      "cell_type": "code",
      "execution_count": null,
      "metadata": {
        "id": "XD-p_P_U3_vX"
      },
      "outputs": [],
      "source": [
        "# Setup, Version check and Common imports\n",
        "\n",
        "# Python ≥3.8 is required\n",
        "import sys\n",
        "assert sys.version_info >= (3, 5)\n",
        "\n",
        "\n",
        "# TensorFlow ≥2.0 is required\n",
        "import tensorflow as tf\n",
        "assert tf.__version__ >= \"2.0\"\n",
        "\n",
        "# Common imports\n",
        "import numpy as np\n",
        "import os\n",
        "\n",
        "from tensorflow import keras\n",
        "from tensorflow.keras import layers\n",
        "\n",
        "# to make this notebook's output stable across runs\n",
        "np.random.seed(42)\n",
        "\n",
        "import matplotlib.pyplot as plt\n",
        "\n",
        "plt.rc('font', size=14)\n",
        "plt.rc('axes', labelsize=14, titlesize=14)\n",
        "plt.rc('legend', fontsize=14)\n",
        "plt.rc('xtick', labelsize=10)\n",
        "plt.rc('ytick', labelsize=10)\n",
        "\n",
        "print('Python version: ', sys.version_info)\n",
        "print('TF version: ', tf.__version__)\n",
        "print('Keras version: ', keras.__version__)\n",
        "print('GPU is', 'available' if tf.config.list_physical_devices('GPU') else 'NOT AVAILABLE')"
      ]
    },
    {
      "cell_type": "markdown",
      "source": [
        "**1. Obtaining the Dataset**"
      ],
      "metadata": {
        "id": "5Fhk3xVV2wl0"
      }
    },
    {
      "cell_type": "code",
      "source": [
        "# Load MNIST dataset from keras datasets: https://keras.io/api/datasets/mnist/\n",
        "# The load_data() method creates train and test sets (NumPy arrays)\n",
        "\n",
        "from keras.datasets import mnist\n",
        "\n",
        "(train_images, train_labels), (test_images, test_labels) = mnist.load_data()\n",
        "\n"
      ],
      "metadata": {
        "id": "06eVEXBf5dLz"
      },
      "execution_count": null,
      "outputs": []
    },
    {
      "cell_type": "markdown",
      "source": [
        "**2. Verifying the Array Shape**"
      ],
      "metadata": {
        "id": "CJnYXtcS25re"
      }
    },
    {
      "cell_type": "code",
      "source": [
        "# Confirm the shape of the sets\n",
        "\n",
        "print('Train: ', 'Images:', train_images.shape, 'Labels:', train_labels.shape)\n",
        "print(' Test: ', 'Images:', test_images.shape, 'Labels:', test_labels.shape)"
      ],
      "metadata": {
        "id": "HKxmZGQx5jj5"
      },
      "execution_count": null,
      "outputs": []
    },
    {
      "cell_type": "code",
      "source": [
        "\n",
        "# Visualize one instance\n",
        "\n",
        "print(train_labels[0])\n",
        "\n",
        "print(train_images[0])\n"
      ],
      "metadata": {
        "id": "L3gvbv4z5ozN"
      },
      "execution_count": null,
      "outputs": []
    },
    {
      "cell_type": "code",
      "source": [
        "\n",
        "# Enhanced visualization of one example.\n",
        "# Modify the value of index to visualize other examples from the training set\n",
        "\n",
        "index = 0\n",
        "\n",
        "plt.title(train_labels[index], fontsize=16)\n",
        "plt.imshow(train_images[index])\n"
      ],
      "metadata": {
        "id": "FOk3PMr15vCn"
      },
      "execution_count": null,
      "outputs": []
    },
    {
      "cell_type": "markdown",
      "source": [
        "**3. Creating a Simple Neural Network**"
      ],
      "metadata": {
        "id": "yC6dfTc33ZVg"
      }
    },
    {
      "cell_type": "code",
      "source": [
        "# Create a simple feed-forward NN with name my_first_model\n",
        "# It relies on the Keras Sequential API: https://keras.io/api/models/\n",
        "# When creating a NN, it adds layeys one by one, using the layer class: https://keras.io/api/layers/base_layer/\n",
        "\n",
        "my_first_model = keras.Sequential([\n",
        "    layers.Input(shape=[28,28]),\n",
        "    layers.Flatten(),\n",
        "    layers.Dense(512, activation=\"sigmoid\"),\n",
        "    layers.Dense(10, activation=\"softmax\")\n",
        "])\n"
      ],
      "metadata": {
        "id": "bvrtfe5h57HP"
      },
      "execution_count": null,
      "outputs": []
    },
    {
      "cell_type": "markdown",
      "source": [
        "**Questions:**\n",
        "\n",
        "1. How many layers has my_first_model?\n",
        "\n",
        "2. How many parameters has my_first_model?\n",
        "\n",
        "3. Can you justify the need of the Flatten layer?\n",
        "\n",
        "4. Can you justify the selection of the activation functions?\n",
        "\n"
      ],
      "metadata": {
        "id": "PLcDV8lG6B02"
      }
    },
    {
      "cell_type": "code",
      "source": [
        "# Present a summary of the network architecture\n",
        "# Confirm if your answers are correct\n",
        "\n",
        "my_first_model.summary()\n"
      ],
      "metadata": {
        "id": "-dI49T-Y6C91"
      },
      "execution_count": null,
      "outputs": []
    },
    {
      "cell_type": "markdown",
      "source": [
        "**4. Model Compilation**"
      ],
      "metadata": {
        "id": "lmYyDaQr3k0E"
      }
    },
    {
      "cell_type": "code",
      "source": [
        "\n",
        "# A NN has to be compiled by calling the compile() method: https://keras.io/api/models/model_training_apis/\n",
        "\n",
        "# Three components have to be defined (recall how backpropagation is appplied during training):\n",
        "# 1. the Optimizer to be used in training\n",
        "# 2. The loss function\n",
        "# 3. The evaluation metric\n",
        "\n",
        "my_first_model.compile(optimizer=\"SGD\",\n",
        "              loss=\"sparse_categorical_crossentropy\",\n",
        "              metrics=[\"accuracy\"])\n"
      ],
      "metadata": {
        "id": "j0bvBjVM6YZg"
      },
      "execution_count": null,
      "outputs": []
    },
    {
      "cell_type": "markdown",
      "source": [
        "**Questions:**\n",
        "\n",
        "1. Can you justify the selection of the three components in the compilation of the NN?\n",
        "\n",
        "2. What is the value of the learning rate?"
      ],
      "metadata": {
        "id": "cmBT4iHP6hTe"
      }
    },
    {
      "cell_type": "markdown",
      "source": [
        "**5. Model Training**"
      ],
      "metadata": {
        "id": "mFIUgZkq3qfH"
      }
    },
    {
      "cell_type": "code",
      "source": [
        "# Training is performed by calling the fit() method: https://keras.io/api/models/model_training_apis/\n",
        "\n",
        "my_first_model.fit(train_images, train_labels, epochs=5, batch_size=128)"
      ],
      "metadata": {
        "id": "o5lslsDF6tw5"
      },
      "execution_count": null,
      "outputs": []
    },
    {
      "cell_type": "markdown",
      "source": [
        "**Questions:**\n",
        "\n",
        "1. Explain the parameters specified in the fit() method?\n",
        "\n",
        "2. Do you consider that training was successful? Why?"
      ],
      "metadata": {
        "id": "EUVlHV2n68PE"
      }
    },
    {
      "cell_type": "markdown",
      "source": [
        "**6. Model Evaluation**"
      ],
      "metadata": {
        "id": "yqxWNN_I3zFv"
      }
    },
    {
      "cell_type": "code",
      "source": [
        "# Evaluation the generalization ability of the model\n",
        "\n",
        "# The test set will be used in this step\n",
        "# Classification of a set of examples can be performed using the evaluate() method:  https://keras.io/api/models/model_training_apis/\n",
        "\n",
        "test_loss, test_acc = my_first_model.evaluate(test_images, test_labels)\n",
        "print(f\"test_acc: {test_acc}\")\n"
      ],
      "metadata": {
        "id": "UZOBh_wj6wDu"
      },
      "execution_count": null,
      "outputs": []
    },
    {
      "cell_type": "markdown",
      "source": [
        "**Questions:**\n",
        "\n",
        "1. How do you analyse this result?\n",
        "\n",
        "2. Why is it important to evaluate the model on a test set?"
      ],
      "metadata": {
        "id": "KrDZURLQ7DAR"
      }
    }
  ]
}
